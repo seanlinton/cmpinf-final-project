{
 "cells": [
  {
   "cell_type": "markdown",
   "metadata": {},
   "source": [
    "# The Best Neighborhood\n",
    "\n",
    "Group Members: Sean Linton, Tyree Spencer, Mercedes Sanoja Suarez"
   ]
  },
  {
   "cell_type": "markdown",
   "metadata": {},
   "source": [
    "## Introduction"
   ]
  },
  {
   "cell_type": "markdown",
   "metadata": {},
   "source": [
    "## Metrics"
   ]
  },
  {
   "cell_type": "markdown",
   "metadata": {},
   "source": [
    "## The Best Neighborhood"
   ]
  },
  {
   "cell_type": "code",
   "execution_count": 133,
   "metadata": {},
   "outputs": [],
   "source": [
    "import pandas as pd\n",
    "%matplotlib inline\n",
    "import matplotlib.pyplot as plt\n",
    "import numpy as np"
   ]
  },
  {
   "cell_type": "markdown",
   "metadata": {},
   "source": [
    "First we will take a look at the boomer population metric. "
   ]
  },
  {
   "cell_type": "code",
   "execution_count": 67,
   "metadata": {},
   "outputs": [
    {
     "data": {
      "text/html": [
       "<div>\n",
       "<style scoped>\n",
       "    .dataframe tbody tr th:only-of-type {\n",
       "        vertical-align: middle;\n",
       "    }\n",
       "\n",
       "    .dataframe tbody tr th {\n",
       "        vertical-align: top;\n",
       "    }\n",
       "\n",
       "    .dataframe thead th {\n",
       "        text-align: right;\n",
       "    }\n",
       "</style>\n",
       "<table border=\"1\" class=\"dataframe\">\n",
       "  <thead>\n",
       "    <tr style=\"text-align: right;\">\n",
       "      <th></th>\n",
       "      <th>OBJECTID</th>\n",
       "      <th>Neighborhood_2010_FID_BlockG</th>\n",
       "      <th>Neighborhood_2010_STATEFP10</th>\n",
       "      <th>Neighborhood_2010_COUNTYFP10</th>\n",
       "      <th>Neighborhood_2010_TRACTCE10</th>\n",
       "      <th>Neighborhood_2010_BLKGRPCE10</th>\n",
       "      <th>Neighborhood_2010_GEOID10</th>\n",
       "      <th>Neighborhood_2010_NAMELSAD10</th>\n",
       "      <th>Neighborhood_2010_MTFCC10</th>\n",
       "      <th>Neighborhood_2010_FUNCSTAT10</th>\n",
       "      <th>...</th>\n",
       "      <th>Total_Working_Pop___Age_16____2</th>\n",
       "      <th>SNAP_All_csv_Commute_to_Work__D</th>\n",
       "      <th>SNAP_All_csv_Commute_to_Work__C</th>\n",
       "      <th>SNAP_All_csv_Commute_to_Work__P</th>\n",
       "      <th>SNAP_All_csv_Commute_to_Work__T</th>\n",
       "      <th>SNAP_All_csv_Commute_to_Work__M</th>\n",
       "      <th>SNAP_All_csv_Commute_to_Work__B</th>\n",
       "      <th>SNAP_All_csv_Commute_to_Work__W</th>\n",
       "      <th>SNAP_All_csv_Commute_to_Work__O</th>\n",
       "      <th>SNAP_All_csv_Work_at_Home__2010</th>\n",
       "    </tr>\n",
       "  </thead>\n",
       "  <tbody>\n",
       "    <tr>\n",
       "      <th>0</th>\n",
       "      <td>1</td>\n",
       "      <td>0</td>\n",
       "      <td>42</td>\n",
       "      <td>3</td>\n",
       "      <td>40500</td>\n",
       "      <td>1</td>\n",
       "      <td>420030405001</td>\n",
       "      <td>Block Group 1</td>\n",
       "      <td>G5030</td>\n",
       "      <td>S</td>\n",
       "      <td>...</td>\n",
       "      <td>2509</td>\n",
       "      <td>16.3%</td>\n",
       "      <td>6.9%</td>\n",
       "      <td>13.3%</td>\n",
       "      <td>0.0%</td>\n",
       "      <td>0.0%</td>\n",
       "      <td>0.0%</td>\n",
       "      <td>62.4%</td>\n",
       "      <td>0.0%</td>\n",
       "      <td>1.2%</td>\n",
       "    </tr>\n",
       "    <tr>\n",
       "      <th>1</th>\n",
       "      <td>2</td>\n",
       "      <td>1</td>\n",
       "      <td>42</td>\n",
       "      <td>3</td>\n",
       "      <td>40400</td>\n",
       "      <td>1</td>\n",
       "      <td>420030404001</td>\n",
       "      <td>Block Group 1</td>\n",
       "      <td>G5030</td>\n",
       "      <td>S</td>\n",
       "      <td>...</td>\n",
       "      <td>3436</td>\n",
       "      <td>20.6%</td>\n",
       "      <td>7.2%</td>\n",
       "      <td>11.5%</td>\n",
       "      <td>0.4%</td>\n",
       "      <td>0.0%</td>\n",
       "      <td>2.9%</td>\n",
       "      <td>52.6%</td>\n",
       "      <td>0.4%</td>\n",
       "      <td>4.4%</td>\n",
       "    </tr>\n",
       "    <tr>\n",
       "      <th>2</th>\n",
       "      <td>3</td>\n",
       "      <td>2</td>\n",
       "      <td>42</td>\n",
       "      <td>3</td>\n",
       "      <td>40200</td>\n",
       "      <td>2</td>\n",
       "      <td>420030402002</td>\n",
       "      <td>Block Group 2</td>\n",
       "      <td>G5030</td>\n",
       "      <td>S</td>\n",
       "      <td>...</td>\n",
       "      <td>834</td>\n",
       "      <td>35.5%</td>\n",
       "      <td>1.0%</td>\n",
       "      <td>22.1%</td>\n",
       "      <td>0.0%</td>\n",
       "      <td>0.0%</td>\n",
       "      <td>0.0%</td>\n",
       "      <td>40.8%</td>\n",
       "      <td>0.7%</td>\n",
       "      <td>0.0%</td>\n",
       "    </tr>\n",
       "    <tr>\n",
       "      <th>3</th>\n",
       "      <td>4</td>\n",
       "      <td>3</td>\n",
       "      <td>42</td>\n",
       "      <td>3</td>\n",
       "      <td>30500</td>\n",
       "      <td>2</td>\n",
       "      <td>420030305002</td>\n",
       "      <td>Block Group 2</td>\n",
       "      <td>G5030</td>\n",
       "      <td>S</td>\n",
       "      <td>...</td>\n",
       "      <td>635</td>\n",
       "      <td>65.4%</td>\n",
       "      <td>9.6%</td>\n",
       "      <td>16.5%</td>\n",
       "      <td>2.0%</td>\n",
       "      <td>0.0%</td>\n",
       "      <td>0.0%</td>\n",
       "      <td>6.5%</td>\n",
       "      <td>0.0%</td>\n",
       "      <td>0.0%</td>\n",
       "    </tr>\n",
       "    <tr>\n",
       "      <th>4</th>\n",
       "      <td>5</td>\n",
       "      <td>5</td>\n",
       "      <td>42</td>\n",
       "      <td>3</td>\n",
       "      <td>20300</td>\n",
       "      <td>1</td>\n",
       "      <td>420030203001</td>\n",
       "      <td>Block Group 1</td>\n",
       "      <td>G5030</td>\n",
       "      <td>S</td>\n",
       "      <td>...</td>\n",
       "      <td>277</td>\n",
       "      <td>53.8%</td>\n",
       "      <td>19.1%</td>\n",
       "      <td>18.1%</td>\n",
       "      <td>0.0%</td>\n",
       "      <td>0.0%</td>\n",
       "      <td>0.0%</td>\n",
       "      <td>0.0%</td>\n",
       "      <td>0.0%</td>\n",
       "      <td>9.0%</td>\n",
       "    </tr>\n",
       "  </tbody>\n",
       "</table>\n",
       "<p>5 rows × 190 columns</p>\n",
       "</div>"
      ],
      "text/plain": [
       "   OBJECTID  Neighborhood_2010_FID_BlockG  Neighborhood_2010_STATEFP10  \\\n",
       "0         1                             0                           42   \n",
       "1         2                             1                           42   \n",
       "2         3                             2                           42   \n",
       "3         4                             3                           42   \n",
       "4         5                             5                           42   \n",
       "\n",
       "   Neighborhood_2010_COUNTYFP10  Neighborhood_2010_TRACTCE10  \\\n",
       "0                             3                        40500   \n",
       "1                             3                        40400   \n",
       "2                             3                        40200   \n",
       "3                             3                        30500   \n",
       "4                             3                        20300   \n",
       "\n",
       "   Neighborhood_2010_BLKGRPCE10  Neighborhood_2010_GEOID10  \\\n",
       "0                             1               420030405001   \n",
       "1                             1               420030404001   \n",
       "2                             2               420030402002   \n",
       "3                             2               420030305002   \n",
       "4                             1               420030203001   \n",
       "\n",
       "  Neighborhood_2010_NAMELSAD10 Neighborhood_2010_MTFCC10  \\\n",
       "0                Block Group 1                     G5030   \n",
       "1                Block Group 1                     G5030   \n",
       "2                Block Group 2                     G5030   \n",
       "3                Block Group 2                     G5030   \n",
       "4                Block Group 1                     G5030   \n",
       "\n",
       "  Neighborhood_2010_FUNCSTAT10               ...                 \\\n",
       "0                            S               ...                  \n",
       "1                            S               ...                  \n",
       "2                            S               ...                  \n",
       "3                            S               ...                  \n",
       "4                            S               ...                  \n",
       "\n",
       "   Total_Working_Pop___Age_16____2  SNAP_All_csv_Commute_to_Work__D  \\\n",
       "0                             2509                            16.3%   \n",
       "1                             3436                            20.6%   \n",
       "2                              834                            35.5%   \n",
       "3                              635                            65.4%   \n",
       "4                              277                            53.8%   \n",
       "\n",
       "   SNAP_All_csv_Commute_to_Work__C  SNAP_All_csv_Commute_to_Work__P  \\\n",
       "0                             6.9%                            13.3%   \n",
       "1                             7.2%                            11.5%   \n",
       "2                             1.0%                            22.1%   \n",
       "3                             9.6%                            16.5%   \n",
       "4                            19.1%                            18.1%   \n",
       "\n",
       "   SNAP_All_csv_Commute_to_Work__T  SNAP_All_csv_Commute_to_Work__M  \\\n",
       "0                             0.0%                             0.0%   \n",
       "1                             0.4%                             0.0%   \n",
       "2                             0.0%                             0.0%   \n",
       "3                             2.0%                             0.0%   \n",
       "4                             0.0%                             0.0%   \n",
       "\n",
       "   SNAP_All_csv_Commute_to_Work__B  SNAP_All_csv_Commute_to_Work__W  \\\n",
       "0                             0.0%                            62.4%   \n",
       "1                             2.9%                            52.6%   \n",
       "2                             0.0%                            40.8%   \n",
       "3                             0.0%                             6.5%   \n",
       "4                             0.0%                             0.0%   \n",
       "\n",
       "   SNAP_All_csv_Commute_to_Work__O  SNAP_All_csv_Work_at_Home__2010  \n",
       "0                             0.0%                             1.2%  \n",
       "1                             0.4%                             4.4%  \n",
       "2                             0.7%                             0.0%  \n",
       "3                             0.0%                             0.0%  \n",
       "4                             0.0%                             9.0%  \n",
       "\n",
       "[5 rows x 190 columns]"
      ]
     },
     "execution_count": 67,
     "metadata": {},
     "output_type": "execute_result"
    }
   ],
   "source": [
    "boomerDataFrame = pd.read_csv(\"snap.csv\")\n",
    "boomerDataFrame.head(5)"
   ]
  },
  {
   "cell_type": "markdown",
   "metadata": {},
   "source": [
    "There is a lot of data here, each neighborhood has 190 columns related to it, but we are only interested in one."
   ]
  },
  {
   "cell_type": "code",
   "execution_count": 69,
   "metadata": {},
   "outputs": [
    {
     "name": "stdout",
     "output_type": "stream",
     "text": [
      "{'Central Oakland': 3.82, 'North Oakland': 6.72, 'West Oakland': 8.06, 'Crawford-Roberts': 16.02, 'Strip District': 17.27, 'Central Business District': 14.46, 'Spring Hill-City View': 11.63, 'Perry South': 10.61, 'Summer Hill': 9.89, 'Northview Heights': 8.4, 'Perry North': 10.2, 'Westwood': 11.96, 'Beltzhoover': 12.97, 'Central Lawrenceville': 15.58, 'South Side Flats': 8.9, 'Allentown': 14.4, 'South Side Slopes': 9.51, 'Bluff': 3.5, 'Fineview': 16.35, 'Hazelwood': 14.41, 'Lincoln-Lemington-Belmar': 9.15, 'East Hills': 16.07, 'South Oakland': 11.7, 'Mount Washington': 11.95, 'Greenfield': 13.46, 'Squirrel Hill South': 10.34, 'Central Northside': 13.6, 'Spring Garden': 5.2, 'Troy Hill': 11.19, 'East Allegheny': 13.44, 'Stanton Heights': 13.53, 'Lower Lawrenceville': 7.67, 'Bloomfield': 12.56, 'Carrick': 12.37, 'Point Breeze': 11.77, 'Duquesne Heights': 19.27, 'Swisshelm Park': 15.46, 'Highland Park': 11.18, 'Garfield': 12.15, 'Manchester': 12.23, 'Upper Lawrenceville': 11.94, 'Beechview': 12.03, 'Brookline': 12.63, 'Morningside': 12.36, 'Larimer': 8.9, 'North Shore': 14.85, 'Bon Air': 22.75, 'Banksville': 9.16, 'Windgap': 21.31, 'Friendship': 8.02, 'Arlington': 8.88, 'St. Clair': 6.11, 'Mt. Oliver': 9.6, 'Sheraden': 9.67, 'Allegheny West': 12.55, 'Elliott': 9.79, 'Shadyside': 8.49, 'Knoxville': 9.56, 'Allegheny Center': 17.61, 'Brighton Heights': 9.17, 'Crafton Heights': 10.9, 'Polish Hill': 9.4, 'Arlington Heights': 3.41, 'Squirrel Hill North': 9.82, 'Terrace Village': 4.12, 'Bedford Dwellings': 16.96, 'Regent Square': 15.57, 'Hays': 13.58, 'Point Breeze North': 14.23, 'Marshall-Shadeland': 8.57, 'Lincoln Place': 13.11, 'Overbrook': 12.4, 'Homewood South': 18.54, 'Homewood North': 10.17, 'Homewood West': 20.04, 'Oakwood': 13.74, 'East Liberty': 8.97, 'East Carnegie': 12.55, 'New Homestead': 18.53, 'Upper Hill': 14.56, 'Middle Hill': 22.34, 'Esplen': 14.89, 'Fairywood': 18.75, 'Chartiers City': 28.47, 'Ridgemont': 9.25, 'West End': 26.72, 'California-Kirkbride': 4.69, 'Glen Hazel': 12.19}\n"
     ]
    }
   ],
   "source": [
    "hoodBoomerData = {}\n",
    "\n",
    "for x in range(len(boomerDataFrame)):\n",
    "    try:\n",
    "        val = float(boomerDataFrame.loc[x, \"F__Pop__Age_60_74__2010_\"][:-1])\n",
    "        if val != 0:\n",
    "            hoodBoomerData[boomerDataFrame.loc[x, \"Neighborhood_2010_HOOD\"]] = val\n",
    "    except:\n",
    "        pass\n",
    "\n",
    "print (hoodBoomerData)"
   ]
  },
  {
   "cell_type": "markdown",
   "metadata": {},
   "source": [
    "Since there is only one neighboorhood per row, it was easiest to create a separate dictionary with the names of the neighborhoods as the key, and the boomer population percentage as the value. It was necessary to check if the boomer population is 0% as that appears to be an error in the data set."
   ]
  },
  {
   "cell_type": "code",
   "execution_count": 112,
   "metadata": {},
   "outputs": [
    {
     "name": "stdout",
     "output_type": "stream",
     "text": [
      "Chartiers City: 28.47%\n",
      "West End: 26.72%\n",
      "Bon Air: 22.75%\n",
      "Middle Hill: 22.34%\n",
      "Windgap: 21.31%\n",
      "Homewood West: 20.04%\n",
      "Duquesne Heights: 19.27%\n",
      "Fairywood: 18.75%\n",
      "Homewood South: 18.54%\n",
      "New Homestead: 18.53%\n",
      "Allegheny Center: 17.61%\n",
      "Strip District: 17.27%\n",
      "Bedford Dwellings: 16.96%\n",
      "Fineview: 16.35%\n",
      "East Hills: 16.07%\n",
      "Crawford-Roberts: 16.02%\n",
      "Central Lawrenceville: 15.58%\n",
      "Regent Square: 15.57%\n",
      "Swisshelm Park: 15.46%\n",
      "Esplen: 14.89%\n",
      "North Shore: 14.85%\n",
      "Upper Hill: 14.56%\n",
      "Central Business District: 14.46%\n",
      "Hazelwood: 14.41%\n",
      "Allentown: 14.4%\n",
      "Point Breeze North: 14.23%\n",
      "Oakwood: 13.74%\n",
      "Central Northside: 13.6%\n",
      "Hays: 13.58%\n",
      "Stanton Heights: 13.53%\n",
      "Greenfield: 13.46%\n",
      "East Allegheny: 13.44%\n",
      "Lincoln Place: 13.11%\n",
      "Beltzhoover: 12.97%\n",
      "Brookline: 12.63%\n",
      "Bloomfield: 12.56%\n",
      "Allegheny West: 12.55%\n",
      "East Carnegie: 12.55%\n",
      "Overbrook: 12.4%\n",
      "Carrick: 12.37%\n",
      "Morningside: 12.36%\n",
      "Manchester: 12.23%\n",
      "Glen Hazel: 12.19%\n",
      "Garfield: 12.15%\n",
      "Beechview: 12.03%\n",
      "Westwood: 11.96%\n",
      "Mount Washington: 11.95%\n",
      "Upper Lawrenceville: 11.94%\n",
      "Point Breeze: 11.77%\n",
      "South Oakland: 11.7%\n",
      "Spring Hill-City View: 11.63%\n",
      "Troy Hill: 11.19%\n",
      "Highland Park: 11.18%\n",
      "Crafton Heights: 10.9%\n",
      "Perry South: 10.61%\n",
      "Squirrel Hill South: 10.34%\n",
      "Perry North: 10.2%\n",
      "Homewood North: 10.17%\n",
      "Summer Hill: 9.89%\n",
      "Squirrel Hill North: 9.82%\n",
      "Elliott: 9.79%\n",
      "Sheraden: 9.67%\n",
      "Mt. Oliver: 9.6%\n",
      "Knoxville: 9.56%\n",
      "South Side Slopes: 9.51%\n",
      "Polish Hill: 9.4%\n",
      "Ridgemont: 9.25%\n",
      "Brighton Heights: 9.17%\n",
      "Banksville: 9.16%\n",
      "Lincoln-Lemington-Belmar: 9.15%\n",
      "East Liberty: 8.97%\n",
      "South Side Flats: 8.9%\n",
      "Larimer: 8.9%\n",
      "Arlington: 8.88%\n",
      "Marshall-Shadeland: 8.57%\n",
      "Shadyside: 8.49%\n",
      "Northview Heights: 8.4%\n",
      "West Oakland: 8.06%\n",
      "Friendship: 8.02%\n",
      "Lower Lawrenceville: 7.67%\n",
      "North Oakland: 6.72%\n",
      "St. Clair: 6.11%\n",
      "Spring Garden: 5.2%\n",
      "California-Kirkbride: 4.69%\n",
      "Terrace Village: 4.12%\n",
      "Central Oakland: 3.82%\n",
      "Bluff: 3.5%\n",
      "Arlington Heights: 3.41%\n"
     ]
    }
   ],
   "source": [
    "sortedBoomerHoods = sorted([x for x in hoodBoomerData], key = lambda y:hoodBoomerData[y], reverse = True)\n",
    "\n",
    "for hood in sortedBoomerHoods:\n",
    "    print (f\"{hood}: {hoodBoomerData[hood]}%\")"
   ]
  },
  {
   "cell_type": "code",
   "execution_count": 189,
   "metadata": {},
   "outputs": [
    {
     "data": {
      "image/png": "[encoded data removed]",
      "text/plain": [
       "<Figure size 960x800 with 1 Axes>"
      ]
     },
     "metadata": {},
     "output_type": "display_data"
    },
    {
     "data": {
      "text/plain": [
       "<Figure size 432x288 with 0 Axes>"
      ]
     },
     "metadata": {},
     "output_type": "display_data"
    }
   ],
   "source": [
    "plt.figure(num=None, figsize=(12,10), dpi=80, facecolor='w', edgecolor='k')\n",
    "plt.bar(sortedBoomerHoods, [hoodBoomerData[x] for x in sortedBoomerHoods])\n",
    "plt.tick_params(labelbottom = False)\n",
    "plt.ylabel(\"Population Percetage of Boomers\")\n",
    "plt.show()\n",
    "plt.clf()"
   ]
  },
  {
   "cell_type": "markdown",
   "metadata": {},
   "source": [
    "Here we get a good look at the distribution of the boomer population across all of the neighborhoods."
   ]
  },
  {
   "cell_type": "code",
   "execution_count": 77,
   "metadata": {},
   "outputs": [],
   "source": [
    "normHoodBoomerData = {}\n",
    "\n",
    "maxBoomerVal = max([hoodBoomerData[x] for x in hoodBoomerData])\n",
    "minBoomerVal = min([hoodBoomerData[x] for x in hoodBoomerData])\n",
    "\n",
    "for hood in hoodBoomerData:\n",
    "    normalized = 1 - ((hoodBoomerData[hood] - minBoomerVal) / (maxBoomerVal - minBoomerVal))\n",
    "    normHoodBoomerData[hood] = normalized"
   ]
  },
  {
   "cell_type": "markdown",
   "metadata": {},
   "source": [
    "To best compare the data, we decided to normalize each value between 0 and 1. This value is the boomer score given to each neighborhood. Since the best neighborhood is the one with the least amount of boomers, we inverted the value so that it is higher the lower the percentage."
   ]
  },
  {
   "cell_type": "code",
   "execution_count": 87,
   "metadata": {},
   "outputs": [
    {
     "name": "stdout",
     "output_type": "stream",
     "text": [
      "Arlington Heights: 1.0000\n",
      "Bluff: 0.9964\n",
      "Central Oakland: 0.9836\n",
      "Terrace Village: 0.9717\n",
      "California-Kirkbride: 0.9489\n",
      "Spring Garden: 0.9286\n",
      "St. Clair: 0.8923\n",
      "North Oakland: 0.8679\n",
      "Lower Lawrenceville: 0.8300\n",
      "Friendship: 0.8160\n"
     ]
    }
   ],
   "source": [
    "for hood in sortedBoomerHoods[-10:][::-1]:\n",
    "    print (\"{}: {:.4f}\".format(hood, normHoodBoomerData[hood]))"
   ]
  },
  {
   "cell_type": "markdown",
   "metadata": {},
   "source": [
    "Here are the top 10 neighborhoods with the highest boomer score. Arlington Heights takes first place with the lowest amount of boomers."
   ]
  },
  {
   "cell_type": "markdown",
   "metadata": {},
   "source": [
    "Moving on to illegal dump sites:"
   ]
  },
  {
   "cell_type": "code",
   "execution_count": 89,
   "metadata": {},
   "outputs": [
    {
     "data": {
      "text/html": [
       "<div>\n",
       "<style scoped>\n",
       "    .dataframe tbody tr th:only-of-type {\n",
       "        vertical-align: middle;\n",
       "    }\n",
       "\n",
       "    .dataframe tbody tr th {\n",
       "        vertical-align: top;\n",
       "    }\n",
       "\n",
       "    .dataframe thead th {\n",
       "        text-align: right;\n",
       "    }\n",
       "</style>\n",
       "<table border=\"1\" class=\"dataframe\">\n",
       "  <thead>\n",
       "    <tr style=\"text-align: right;\">\n",
       "      <th></th>\n",
       "      <th>site_name</th>\n",
       "      <th>Status</th>\n",
       "      <th>City</th>\n",
       "      <th>Neighborhood</th>\n",
       "      <th>estimated_tons</th>\n",
       "      <th>location_description</th>\n",
       "      <th>latitude</th>\n",
       "      <th>longitude</th>\n",
       "      <th>Unnamed: 8</th>\n",
       "    </tr>\n",
       "  </thead>\n",
       "  <tbody>\n",
       "    <tr>\n",
       "      <th>0</th>\n",
       "      <td>St. Martin Street</td>\n",
       "      <td>Surveyed</td>\n",
       "      <td>Pittsburgh</td>\n",
       "      <td>Allentown</td>\n",
       "      <td>0.5</td>\n",
       "      <td>NaN</td>\n",
       "      <td>40.42221971</td>\n",
       "      <td>-79.99022525</td>\n",
       "      <td>NaN</td>\n",
       "    </tr>\n",
       "    <tr>\n",
       "      <th>1</th>\n",
       "      <td>Brosville Street</td>\n",
       "      <td>Surveyed</td>\n",
       "      <td>Pittsburgh</td>\n",
       "      <td>Allentown</td>\n",
       "      <td>3</td>\n",
       "      <td>NaN</td>\n",
       "      <td>40.42370101</td>\n",
       "      <td>-79.98657393</td>\n",
       "      <td>NaN</td>\n",
       "    </tr>\n",
       "    <tr>\n",
       "      <th>2</th>\n",
       "      <td>McCain Street</td>\n",
       "      <td>Surveyed</td>\n",
       "      <td>Pittsburgh</td>\n",
       "      <td>Allentown</td>\n",
       "      <td>1</td>\n",
       "      <td>NaN</td>\n",
       "      <td>40.42427063</td>\n",
       "      <td>-79.99022675</td>\n",
       "      <td>NaN</td>\n",
       "    </tr>\n",
       "    <tr>\n",
       "      <th>3</th>\n",
       "      <td>Ceres Way</td>\n",
       "      <td>Surveyed</td>\n",
       "      <td>Pittsburgh</td>\n",
       "      <td>Allentown</td>\n",
       "      <td>0.5</td>\n",
       "      <td>NaN</td>\n",
       "      <td>40.42327242</td>\n",
       "      <td>-79.99248958</td>\n",
       "      <td>NaN</td>\n",
       "    </tr>\n",
       "    <tr>\n",
       "      <th>4</th>\n",
       "      <td>Eureka Street</td>\n",
       "      <td>Completed</td>\n",
       "      <td>Pittsburgh</td>\n",
       "      <td>Allentown</td>\n",
       "      <td>0.1</td>\n",
       "      <td>NaN</td>\n",
       "      <td>40.42372131</td>\n",
       "      <td>-79.99478912</td>\n",
       "      <td>NaN</td>\n",
       "    </tr>\n",
       "  </tbody>\n",
       "</table>\n",
       "</div>"
      ],
      "text/plain": [
       "           site_name     Status        City Neighborhood estimated_tons  \\\n",
       "0  St. Martin Street   Surveyed  Pittsburgh    Allentown            0.5   \n",
       "1   Brosville Street   Surveyed  Pittsburgh    Allentown              3   \n",
       "2      McCain Street   Surveyed  Pittsburgh    Allentown              1   \n",
       "3          Ceres Way   Surveyed  Pittsburgh    Allentown            0.5   \n",
       "4      Eureka Street  Completed  Pittsburgh    Allentown            0.1   \n",
       "\n",
       "  location_description     latitude     longitude  Unnamed: 8  \n",
       "0                  NaN  40.42221971  -79.99022525         NaN  \n",
       "1                  NaN  40.42370101  -79.98657393         NaN  \n",
       "2                  NaN  40.42427063  -79.99022675         NaN  \n",
       "3                  NaN  40.42327242  -79.99248958         NaN  \n",
       "4                  NaN  40.42372131  -79.99478912         NaN  "
      ]
     },
     "execution_count": 89,
     "metadata": {},
     "output_type": "execute_result"
    }
   ],
   "source": [
    "dumpDataFrame = pd.read_csv(\"illegaldumpsites.csv\")\n",
    "dumpDataFrame.head(5)"
   ]
  },
  {
   "cell_type": "code",
   "execution_count": 192,
   "metadata": {},
   "outputs": [
    {
     "name": "stdout",
     "output_type": "stream",
     "text": [
      "{'Allentown': 10.4, 'Arlington': 17.5, 'Avalon': 1.0, 'Banksville': 1.0, 'Barking Slopes': 3.0, 'Bedford Dwellings': 1.0, 'Beechview': 11.0, 'Bell Acres': 0.5, 'Bellevue': 1.5, 'Beltzhoover': 53.10000000000001, 'Bethel Park': 5.0, 'Bloomfield': 5.0, 'Bluff': 1.0, 'Borough of Millvale': 3.0, 'Boston': 0.8, 'Braddock': 3.0, 'Brighton Heights': 6.8, 'Brookline': 35.7, 'Buena Vista': 0.3, 'California-Kirkbride': 1.3, 'Carnegie': 3.0, 'Carrick': 115.29999999999997, 'Central Northside': 5.3, 'Central Oakland': 1.5, 'Chapel Harbor': 1.0, 'Chartiers City': 9.399999999999999, 'Chateau': 4.0, 'Clairton': 3.5, 'Collier': 9.0, 'Crafton Heights': 3.5999999999999996, 'Crawford Roberts-Hill': 12.3, 'Crescent': 3.3, 'Downtown': 2.0, 'Dravosburg': 11.0, 'Duck Hollow': 102.3, 'Duquesne': 9.5, 'Duquesne Heights': 19.0, 'East Carnegie': 1.6, 'East Deer Township': 0.5, 'East Hills': 17.8, 'East Liberty': 0, 'Edgeworth': 0.5, 'Elizabeth': 24.5, 'Elliott': 7.3, 'Esplen': 15.0, 'Fairywood': 10.0, 'Findlay': 23.0, 'Fineview': 10.5, 'Forward': 21.6, 'Fox Chapel': 2.5, 'Freeport': 0, 'Garfield': 19.400000000000002, 'Gibsonia': 0, 'Glassport': 2.5, 'Glen Hazel': 2.0, 'Glenfield': 2.0, 'Greenfield': 41.8, 'Hampton': 12.600000000000001, 'Harmarville': 0, 'Hays': 1.3, 'Hazelwood': 118.59999999999992, 'Highland Park': 2.0, 'Highland Park/Larimer': 25.0, 'Homewood': 17.7, 'Homewood North': 8.0, 'Homewood South': 12.900000000000002, 'Homewood West': 0.5, 'Indiana/Hampton': 0.5, 'Jefferson Hills': 9.5, 'Kennedy': 0.5, 'Kennedy Township': 2.0, 'Knoxville': 9.5, 'Larimer': 16.900000000000002, 'Lawrenceville': 9.3, 'Leet Township': 1.0, 'Liberty': 6.0, 'Lincoln': 2.5, 'Lincoln-Lemington-Belmar': 49.599999999999994, 'Marshall': 12.0, 'McCandless': 6.3, 'McKees Rocks': 5.5, 'McKeesport': 7.5, 'Middle Hill': 11.0, 'Millvale': 15.0, 'Monroeville': 16.0, 'Moon': 8.5, 'Moon Twp': 2.0, 'Morningside': 3.0, 'Mt Lebanon': 1.5, 'Mt. Oliver': 11.3, 'Mt. Washington': 13.2, 'Natrona': 0, 'Neville Island': 2.3, 'New Homestead': 20.0, 'North Fayette': 13.5, 'North Oakland': 6.5, 'North Park': 0.2, 'North Shore': 1.5, 'North Versailles': 1.5, 'Northview Heights': 1.0, 'Oakmont/Verona': 5.0, \"O'Hara\": 0.3, 'Overbrook': 3.2, 'Partially': 0, 'Penn Hills': 13.800000000000002, 'Perry North': 9.200000000000001, 'Perry South': 70.69999999999999, 'Pine Township': 0.5, 'Plum': 12.0, 'Point Breeze North': 0.3, 'Polish Hill': 5.3, 'Rankin': 4.5, 'Robinson': 7.5, 'Saint Clair': 3.0, 'Sewickley': 0, 'Sewickley Heights': 0.5, 'Shaler': 0.5, 'Sharpsburg': 3.0, 'Sheraden': 31.8, 'South Fayette': 27.5, 'South Oakland': 4.3, 'Southside Flats': 2.5, 'Southside Slopes': 5.0, 'Spring Garden': 9.6, 'Spring Hill': 38.800000000000004, 'Springdale': 0.8, 'Squirrel Hill South': 5.3, 'Stanton Heights': 21.7, 'Strip District': 0.3, 'Summer Hill': 1.6, 'Swisshelm Park': 4.5, 'Swissvale': 6.1, 'Terrace Village': 2.5, 'To Be Determined': 0, 'Troy Hill': 8.600000000000001, 'Turtle Creek': 1.0, 'Upper Hill': 7.3999999999999995, 'Verona': 1.0, 'Verona/Blawnox': 0.5, 'West Deer Township': 0.5, 'West End': 47.199999999999974, 'West Mifflin': 7.0, 'West Oakland': 17.3, 'West View': 3.3, 'West Wood': 1.0, 'Whitaker': 0.5, 'White Oak': 0.5, 'Wilkins': 2.3, 'Wilkins/Monroeville': 1.5, 'Wilkinsburg': 9.900000000000002, 'Wilkinsburg/Penn Hills': 6.0, 'Windgap': 4.0}\n"
     ]
    }
   ],
   "source": [
    "hoodDumpData = {}\n",
    "\n",
    "for x in range(len(dumpDataFrame)):\n",
    "    hood = dumpDataFrame.loc[x, \"Neighborhood\"]\n",
    "    if hood not in hoodDumpData:\n",
    "        hoodDumpData[hood] = 0\n",
    "        \n",
    "    try:\n",
    "        if not np.isnan(float(dumpDataFrame.loc[x, \"estimated_tons\"])):\n",
    "            hoodDumpData[hood] += float(dumpDataFrame.loc[x, \"estimated_tons\"])\n",
    "    except:\n",
    "        pass\n",
    "    \n",
    "print (hoodDumpData)"
   ]
  },
  {
   "cell_type": "code",
   "execution_count": 193,
   "metadata": {},
   "outputs": [
    {
     "name": "stdout",
     "output_type": "stream",
     "text": [
      "Hazelwood: 118.59999999999992 tons\n",
      "Carrick: 115.29999999999997 tons\n",
      "Duck Hollow: 102.3 tons\n",
      "Perry South: 70.69999999999999 tons\n",
      "Beltzhoover: 53.10000000000001 tons\n",
      "Lincoln-Lemington-Belmar: 49.599999999999994 tons\n",
      "West End: 47.199999999999974 tons\n",
      "Greenfield: 41.8 tons\n",
      "Spring Hill: 38.800000000000004 tons\n",
      "Brookline: 35.7 tons\n",
      "Sheraden: 31.8 tons\n",
      "South Fayette: 27.5 tons\n",
      "Highland Park/Larimer: 25.0 tons\n",
      "Elizabeth: 24.5 tons\n",
      "Findlay: 23.0 tons\n",
      "Stanton Heights: 21.7 tons\n",
      "Forward: 21.6 tons\n",
      "New Homestead: 20.0 tons\n",
      "Garfield: 19.400000000000002 tons\n",
      "Duquesne Heights: 19.0 tons\n",
      "East Hills: 17.8 tons\n",
      "Homewood: 17.7 tons\n",
      "Arlington: 17.5 tons\n",
      "West Oakland: 17.3 tons\n",
      "Larimer: 16.900000000000002 tons\n",
      "Monroeville: 16.0 tons\n",
      "Esplen: 15.0 tons\n",
      "Millvale: 15.0 tons\n",
      "Penn Hills: 13.800000000000002 tons\n",
      "North Fayette: 13.5 tons\n",
      "Mt. Washington: 13.2 tons\n",
      "Homewood South: 12.900000000000002 tons\n",
      "Hampton: 12.600000000000001 tons\n",
      "Crawford Roberts-Hill: 12.3 tons\n",
      "Marshall: 12.0 tons\n",
      "Plum: 12.0 tons\n",
      "Mt. Oliver: 11.3 tons\n",
      "Beechview: 11.0 tons\n",
      "Dravosburg: 11.0 tons\n",
      "Middle Hill: 11.0 tons\n",
      "Fineview: 10.5 tons\n",
      "Allentown: 10.4 tons\n",
      "Fairywood: 10.0 tons\n",
      "Wilkinsburg: 9.900000000000002 tons\n",
      "Spring Garden: 9.6 tons\n",
      "Duquesne: 9.5 tons\n",
      "Jefferson Hills: 9.5 tons\n",
      "Knoxville: 9.5 tons\n",
      "Chartiers City: 9.399999999999999 tons\n",
      "Lawrenceville: 9.3 tons\n",
      "Perry North: 9.200000000000001 tons\n",
      "Collier: 9.0 tons\n",
      "Troy Hill: 8.600000000000001 tons\n",
      "Moon: 8.5 tons\n",
      "Homewood North: 8.0 tons\n",
      "McKeesport: 7.5 tons\n",
      "Robinson: 7.5 tons\n",
      "Upper Hill: 7.3999999999999995 tons\n",
      "Elliott: 7.3 tons\n",
      "West Mifflin: 7.0 tons\n",
      "Brighton Heights: 6.8 tons\n",
      "North Oakland: 6.5 tons\n",
      "McCandless: 6.3 tons\n",
      "Swissvale: 6.1 tons\n",
      "Liberty: 6.0 tons\n",
      "Wilkinsburg/Penn Hills: 6.0 tons\n",
      "McKees Rocks: 5.5 tons\n",
      "Central Northside: 5.3 tons\n",
      "Polish Hill: 5.3 tons\n",
      "Squirrel Hill South: 5.3 tons\n",
      "Bethel Park: 5.0 tons\n",
      "Bloomfield: 5.0 tons\n",
      "Oakmont/Verona: 5.0 tons\n",
      "Southside Slopes: 5.0 tons\n",
      "Rankin: 4.5 tons\n",
      "Swisshelm Park: 4.5 tons\n",
      "South Oakland: 4.3 tons\n",
      "Chateau: 4.0 tons\n",
      "Windgap: 4.0 tons\n",
      "Crafton Heights: 3.5999999999999996 tons\n",
      "Clairton: 3.5 tons\n",
      "Crescent: 3.3 tons\n",
      "West View: 3.3 tons\n",
      "Overbrook: 3.2 tons\n",
      "Barking Slopes: 3.0 tons\n",
      "Borough of Millvale: 3.0 tons\n",
      "Braddock: 3.0 tons\n",
      "Carnegie: 3.0 tons\n",
      "Morningside: 3.0 tons\n",
      "Saint Clair: 3.0 tons\n",
      "Sharpsburg: 3.0 tons\n",
      "Fox Chapel: 2.5 tons\n",
      "Glassport: 2.5 tons\n",
      "Lincoln: 2.5 tons\n",
      "Southside Flats: 2.5 tons\n",
      "Terrace Village: 2.5 tons\n",
      "Neville Island: 2.3 tons\n",
      "Wilkins: 2.3 tons\n",
      "Downtown: 2.0 tons\n",
      "Glen Hazel: 2.0 tons\n",
      "Glenfield: 2.0 tons\n",
      "Highland Park: 2.0 tons\n",
      "Kennedy Township: 2.0 tons\n",
      "Moon Twp: 2.0 tons\n",
      "East Carnegie: 1.6 tons\n",
      "Summer Hill: 1.6 tons\n",
      "Bellevue: 1.5 tons\n",
      "Central Oakland: 1.5 tons\n",
      "Mt Lebanon: 1.5 tons\n",
      "North Shore: 1.5 tons\n",
      "North Versailles: 1.5 tons\n",
      "Wilkins/Monroeville: 1.5 tons\n",
      "California-Kirkbride: 1.3 tons\n",
      "Hays: 1.3 tons\n",
      "Avalon: 1.0 tons\n",
      "Banksville: 1.0 tons\n",
      "Bedford Dwellings: 1.0 tons\n",
      "Bluff: 1.0 tons\n",
      "Chapel Harbor: 1.0 tons\n",
      "Leet Township: 1.0 tons\n",
      "Northview Heights: 1.0 tons\n",
      "Turtle Creek: 1.0 tons\n",
      "Verona: 1.0 tons\n",
      "West Wood: 1.0 tons\n",
      "Boston: 0.8 tons\n",
      "Springdale: 0.8 tons\n",
      "Bell Acres: 0.5 tons\n",
      "East Deer Township: 0.5 tons\n",
      "Edgeworth: 0.5 tons\n",
      "Homewood West: 0.5 tons\n",
      "Indiana/Hampton: 0.5 tons\n",
      "Kennedy: 0.5 tons\n",
      "Pine Township: 0.5 tons\n",
      "Sewickley Heights: 0.5 tons\n",
      "Shaler: 0.5 tons\n",
      "Verona/Blawnox: 0.5 tons\n",
      "West Deer Township: 0.5 tons\n",
      "Whitaker: 0.5 tons\n",
      "White Oak: 0.5 tons\n",
      "Buena Vista: 0.3 tons\n",
      "O'Hara: 0.3 tons\n",
      "Point Breeze North: 0.3 tons\n",
      "Strip District: 0.3 tons\n",
      "North Park: 0.2 tons\n",
      "East Liberty: 0 tons\n",
      "Freeport: 0 tons\n",
      "Gibsonia: 0 tons\n",
      "Harmarville: 0 tons\n",
      "Natrona: 0 tons\n",
      "Partially: 0 tons\n",
      "Sewickley: 0 tons\n",
      "To Be Determined: 0 tons\n"
     ]
    }
   ],
   "source": [
    "sortedDumpHoods = sorted([x for x in hoodDumpData], key = lambda y:hoodDumpData[y], reverse = True)\n",
    "\n",
    "for hood in sortedDumpHoods:\n",
    "    print (f\"{hood}: {hoodDumpData[hood]} tons\")"
   ]
  },
  {
   "cell_type": "code",
   "execution_count": 194,
   "metadata": {},
   "outputs": [
    {
     "data": {
      "image/png": "[encoded data removed]",
      "text/plain": [
       "<Figure size 960x800 with 1 Axes>"
      ]
     },
     "metadata": {},
     "output_type": "display_data"
    },
    {
     "data": {
      "text/plain": [
       "<Figure size 432x288 with 0 Axes>"
      ]
     },
     "metadata": {},
     "output_type": "display_data"
    }
   ],
   "source": [
    "plt.figure(num=None, figsize=(12,10), dpi=80, facecolor='w', edgecolor='k')\n",
    "plt.bar(sortedDumpHoods, [hoodDumpData[x] for x in sortedDumpHoods])\n",
    "plt.tick_params(labelbottom = False)\n",
    "plt.ylabel(\"Estimated tons of illegal dumps\")\n",
    "plt.show()\n",
    "plt.clf()"
   ]
  },
  {
   "cell_type": "markdown",
   "metadata": {},
   "source": [
    "Here we can see the distibution of the estimated tons of illegal dumps. This graph is very left skewed. "
   ]
  },
  {
   "cell_type": "code",
   "execution_count": 195,
   "metadata": {},
   "outputs": [],
   "source": [
    "maxDumpVal = max([hoodDumpData[x] for x in hoodDumpData])\n",
    "minDumpVal = min([hoodDumpData[x] for x in hoodDumpData])\n",
    "\n",
    "normHoodDumpData = {}\n",
    "\n",
    "for hood in hoodDumpData:\n",
    "    normalized = (hoodDumpData[hood] - minDumpVal) / (maxDumpVal - minDumpVal)\n",
    "    normHoodDumpData[hood] = normalized"
   ]
  },
  {
   "cell_type": "markdown",
   "metadata": {},
   "source": [
    "Again, we normalized each value to be between 0 and 1. The higher the estimated tons of each neighborhood was, the closer it is to 1."
   ]
  },
  {
   "cell_type": "code",
   "execution_count": 196,
   "metadata": {},
   "outputs": [
    {
     "name": "stdout",
     "output_type": "stream",
     "text": [
      "Hazelwood: 1.0000\n",
      "Carrick: 0.9722\n",
      "Duck Hollow: 0.8626\n",
      "Perry South: 0.5961\n",
      "Beltzhoover: 0.4477\n",
      "Lincoln-Lemington-Belmar: 0.4182\n",
      "West End: 0.3980\n",
      "Greenfield: 0.3524\n",
      "Spring Hill: 0.3272\n",
      "Brookline: 0.3010\n"
     ]
    }
   ],
   "source": [
    "for hood in sortedDumpHoods[:10]:\n",
    "    print (\"{}: {:.4f}\".format(hood, normHoodDumpData[hood]))"
   ]
  },
  {
   "cell_type": "markdown",
   "metadata": {},
   "source": [
    "Here are the top 10 neighborhoods with the highest amount of illegal dumping. Since this data set was left skewed, the values drop quickly."
   ]
  },
  {
   "cell_type": "markdown",
   "metadata": {},
   "source": [
    "Now we combine the data to get the final results. "
   ]
  },
  {
   "cell_type": "code",
   "execution_count": 197,
   "metadata": {},
   "outputs": [],
   "source": [
    "combinedNormHoodData = normHoodBoomerData.copy()\n",
    "\n",
    "for hood in normHoodDumpData:\n",
    "    if hood not in combinedNormHoodData:\n",
    "        combinedNormHoodData[hood] = normHoodDumpData[hood]\n",
    "    else:\n",
    "        combinedNormHoodData[hood] += normHoodDumpData[hood]"
   ]
  },
  {
   "cell_type": "markdown",
   "metadata": {},
   "source": [
    "The two dictionaries containing the scores for boomers and illegal dumping were merged."
   ]
  },
  {
   "cell_type": "code",
   "execution_count": 198,
   "metadata": {},
   "outputs": [
    {
     "data": {
      "image/png": "[encoded data removed]",
      "text/plain": [
       "<Figure size 960x800 with 1 Axes>"
      ]
     },
     "metadata": {},
     "output_type": "display_data"
    },
    {
     "data": {
      "text/plain": [
       "<Figure size 432x288 with 0 Axes>"
      ]
     },
     "metadata": {},
     "output_type": "display_data"
    }
   ],
   "source": [
    "sortedCombinedHoods = sorted([x for x in combinedNormHoodData], key = lambda y:combinedNormHoodData[y])[-10:]\n",
    "\n",
    "plt.figure(num=None, figsize=(12,10), dpi=80, facecolor='w', edgecolor='k')\n",
    "plt.barh(sortedCombinedHoods, [combinedNormHoodData[x] for x in sortedCombinedHoods])\n",
    "plt.xlabel(\"Best Neighborhood Score\")\n",
    "plt.show()\n",
    "plt.clf()"
   ]
  },
  {
   "cell_type": "code",
   "execution_count": 199,
   "metadata": {},
   "outputs": [
    {
     "name": "stdout",
     "output_type": "stream",
     "text": [
      "Carrick:\n",
      "\tboomer score: 0.6425\n",
      "\tdump score:   0.9722\n",
      "\ttotal score:  1.6146\n",
      "Hazelwood:\n",
      "\tboomer score: 0.5611\n",
      "\tdump score:   1.0000\n",
      "\ttotal score:  1.5611\n",
      "Perry South:\n",
      "\tboomer score: 0.7127\n",
      "\tdump score:   0.5961\n",
      "\ttotal score:  1.3088\n",
      "Lincoln-Lemington-Belmar:\n",
      "\tboomer score: 0.7709\n",
      "\tdump score:   0.4182\n",
      "\ttotal score:  1.1892\n",
      "Beltzhoover:\n",
      "\tboomer score: 0.6185\n",
      "\tdump score:   0.4477\n",
      "\ttotal score:  1.0662\n",
      "Sheraden:\n",
      "\tboomer score: 0.7502\n",
      "\tdump score:   0.2681\n",
      "\ttotal score:  1.0183\n",
      "Spring Garden:\n",
      "\tboomer score: 0.9286\n",
      "\tdump score:   0.0809\n",
      "\ttotal score:  1.0095\n",
      "Bluff:\n",
      "\tboomer score: 0.9964\n",
      "\tdump score:   0.0084\n",
      "\ttotal score:  1.0048\n",
      "Arlington Heights:\n",
      "\tboomer score: 1.0000\n",
      "\tdump score:   0.0000\n",
      "\ttotal score:  1.0000\n",
      "Central Oakland:\n",
      "\tboomer score: 0.9836\n",
      "\tdump score:   0.0126\n",
      "\ttotal score:  0.9963\n"
     ]
    }
   ],
   "source": [
    "for hood in sortedCombinedHoods[::-1]:\n",
    "    \n",
    "    boomerScore = normHoodBoomerData[hood] if hood in normHoodBoomerData else 0.0\n",
    "    dumpScore = normHoodDumpData[hood] if hood in normHoodDumpData else 0.0   \n",
    "    \n",
    "    print (\"{}:\\n\\tboomer score: {:.4f}\\n\\tdump score:   {:.4f}\\n\\ttotal score:  {:.4f}\".format(hood, boomerScore, dumpScore, combinedNormHoodData[hood]))"
   ]
  },
  {
   "cell_type": "markdown",
   "metadata": {},
   "source": [
    "Here are the top 10 best neighborhoods."
   ]
  },
  {
   "cell_type": "markdown",
   "metadata": {},
   "source": [
    "According to our metrics, the best neighborhood is Carrick. Here are it's results:"
   ]
  },
  {
   "cell_type": "code",
   "execution_count": 179,
   "metadata": {},
   "outputs": [
    {
     "name": "stdout",
     "output_type": "stream",
     "text": [
      "Boomer Population Percentage: 12.37%\n",
      "Boomer Population Score: 0.6425\n",
      "Estimated Tons of Illegal Dumps: 115.29999999999997\n",
      "Dump Population Score: 0.9722\n",
      "Total Score: 1.6146\n"
     ]
    }
   ],
   "source": [
    "print (f\"Boomer Population Percentage: {hoodBoomerData['Carrick']}%\")\n",
    "print (\"Boomer Population Score: {:.4f}\".format(normHoodBoomerData['Carrick']))\n",
    "print (f\"Estimated Tons of Illegal Dumps: {hoodDumpData['Carrick']}\")\n",
    "print (\"Dump Population Score: {:.4f}\".format(normHoodDumpData['Carrick']))\n",
    "print (\"Total Score: {:.4f}\".format(combinedNormHoodData['Carrick']))"
   ]
  },
  {
   "cell_type": "markdown",
   "metadata": {},
   "source": [
    "## Conclusions"
   ]
  },
  {
   "cell_type": "markdown",
   "metadata": {},
   "source": []
  }
 ],
 "metadata": {
  "kernelspec": {
   "display_name": "Python 3.7",
   "language": "python",
   "name": "python3"
  },
  "language_info": {
   "codemirror_mode": {
    "name": "ipython",
    "version": 3
   },
   "file_extension": ".py",
   "mimetype": "text/x-python",
   "name": "python",
   "nbconvert_exporter": "python",
   "pygments_lexer": "ipython3",
   "version": "3.7.0"
  }
 },
 "nbformat": 4,
 "nbformat_minor": 4
}
